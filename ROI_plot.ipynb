{
 "cells": [
  {
   "cell_type": "code",
   "execution_count": 1,
   "metadata": {},
   "outputs": [],
   "source": [
    "import numpy as np\n",
    "import matplotlib.pyplot as plt\n",
    "from PIL import Image\n",
    "import scipy.misc"
   ]
  },
  {
   "cell_type": "markdown",
   "metadata": {},
   "source": [
    "# Plot ROIs"
   ]
  },
  {
   "cell_type": "code",
   "execution_count": 2,
   "metadata": {},
   "outputs": [
    {
     "data": {
      "image/png": "[encoded data removed]",
      "text/plain": [
       "<Figure size 432x288 with 1 Axes>"
      ]
     },
     "metadata": {},
     "output_type": "display_data"
    }
   ],
   "source": [
    "directory = 'D:/analysis-diego-suite2p/IBL/'\n",
    "\n",
    "stat_path = directory+'2019-07-23_FOV1-t002-t003/suite2p/plane0/stat.npy'\n",
    "ops_path = directory+'2019-07-23_FOV1-t002-t003/suite2p/plane0/ops.npy'\n",
    "iscell_path = directory+'2019-07-23_FOV1-t002-t003/suite2p/plane0/iscell.npy'\n",
    "\n",
    "stat = np.load(stat_path)\n",
    "ops = np.load(ops_path).item()\n",
    "iscell = np.load(iscell_path)\n",
    "im = np.zeros((ops['Ly'], ops['Lx']))\n",
    "for n in range(0,len(stat)):\n",
    "    if iscell[n,0] == 1:\n",
    "      ypix = stat[n]['ypix']#[~stat[n]['overlap']]\n",
    "      xpix = stat[n]['xpix']#[~stat[n]['overlap']]\n",
    "      im[ypix,xpix] = 255\n",
    "plt.xticks([])\n",
    "plt.yticks([])\n",
    "plt.imshow(im)\n",
    "#plt.gray()\n",
    "plt.show()"
   ]
  },
  {
   "cell_type": "markdown",
   "metadata": {},
   "source": [
    "# Extract contour of ROIs"
   ]
  },
  {
   "cell_type": "code",
   "execution_count": 47,
   "metadata": {},
   "outputs": [],
   "source": [
    "im_contour = np.ones((ops['Ly'], ops['Lx']))*255\n",
    "for ypix in range(1,im.shape[0]-1):\n",
    "    for xpix in range(1,im.shape[1]-1):\n",
    "        a=im[ypix,xpix+1]\n",
    "        b=im[ypix+1,xpix]\n",
    "        c=im[ypix+1,xpix+1]\n",
    "        d=im[ypix,xpix-1]\n",
    "        e=im[ypix-1,xpix]\n",
    "        f=im[ypix+1,xpix-1]\n",
    "        g=im[ypix-1,xpix+1]\n",
    "        h=im[ypix-1,xpix-1]\n",
    "        if im[ypix,xpix] == 0 and (a ==255 or b ==255 or c ==255 or d ==255 or e ==255 or f ==255 or g ==255 or h == 255).any():\n",
    "            im_contour[ypix,xpix] = 0\n",
    "        else\n",
    "            "
   ]
  },
  {
   "cell_type": "code",
   "execution_count": 48,
   "metadata": {},
   "outputs": [
    {
     "data": {
      "image/png": "[encoded data removed]",
      "text/plain": [
       "<Figure size 432x288 with 1 Axes>"
      ]
     },
     "metadata": {},
     "output_type": "display_data"
    }
   ],
   "source": [
    "plt.imshow(im_contour)\n",
    "plt.xticks([])\n",
    "plt.yticks([])\n",
    "plt.gray()\n",
    "plt.show()\n"
   ]
  },
  {
   "cell_type": "code",
   "execution_count": 67,
   "metadata": {},
   "outputs": [
    {
     "name": "stderr",
     "output_type": "stream",
     "text": [
      "C:\\Users\\diego\\Anaconda3\\lib\\site-packages\\ipykernel_launcher.py:1: DeprecationWarning: `imsave` is deprecated!\n",
      "`imsave` is deprecated in SciPy 1.0.0, and will be removed in 1.2.0.\n",
      "Use ``imageio.imwrite`` instead.\n",
      "  \"\"\"Entry point for launching an IPython kernel.\n"
     ]
    }
   ],
   "source": [
    "scipy.misc.imsave('outfile.jpg', im)"
   ]
  },
  {
   "cell_type": "code",
   "execution_count": 68,
   "metadata": {},
   "outputs": [],
   "source": [
    "img = Image.open('outfile.jpg')\n",
    "img = img.convert(\"RGBA\")\n",
    "datas = img.getdata()"
   ]
  }
 ],
 "metadata": {
  "kernelspec": {
   "display_name": "Python 3",
   "language": "python",
   "name": "python3"
  },
  "language_info": {
   "codemirror_mode": {
    "name": "ipython",
    "version": 3
   },
   "file_extension": ".py",
   "mimetype": "text/x-python",
   "name": "python",
   "nbconvert_exporter": "python",
   "pygments_lexer": "ipython3",
   "version": "3.7.3"
  }
 },
 "nbformat": 4,
 "nbformat_minor": 2
}
